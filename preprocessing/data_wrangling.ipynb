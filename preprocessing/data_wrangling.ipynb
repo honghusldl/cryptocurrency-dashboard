{
  "cells": [
    {
      "cell_type": "markdown",
      "metadata": {
        "id": "pXaBihYXtlKL"
      },
      "source": [
        "# This project aims to analyze 23 types of cryptocurrency via statistics and visualizations. This is the first step of the project, data wrangling, proposing to obtain desired format for visualization and computations."
      ]
    },
    {
      "cell_type": "markdown",
      "metadata": {},
      "source": [
        "## The dataset is retrieved from Kaggle and the usability is already high enough for analysis. Therefore, the expectation here is to concatenate 23 files into 1 single dataframe and trim it to desired format.j"
      ]
    },
    {
      "cell_type": "code",
      "execution_count": 1,
      "metadata": {
        "id": "RLbC-8mT3RtK"
      },
      "outputs": [],
      "source": [
        "import glob\n",
        "import os\n",
        "import numpy as np \n",
        "import pandas as pd \n",
        "import matplotlib.pyplot as plt\n",
        "import seaborn as sns\n",
        "color = sns.color_palette()\n",
        "\n",
        "%matplotlib inline"
      ]
    },
    {
      "cell_type": "markdown",
      "metadata": {
        "id": "NEzWLshI4nnS"
      },
      "source": [
        "# Import DataFrame"
      ]
    },
    {
      "cell_type": "code",
      "execution_count": 2,
      "metadata": {
        "colab": {
          "base_uri": "https://localhost:8080/",
          "height": 424
        },
        "id": "Bw__bNydfBBU",
        "outputId": "080c9b10-d3d8-4059-d202-ee5ea464a8a7"
      },
      "outputs": [
        {
          "data": {
            "text/html": [
              "<div>\n",
              "<style scoped>\n",
              "    .dataframe tbody tr th:only-of-type {\n",
              "        vertical-align: middle;\n",
              "    }\n",
              "\n",
              "    .dataframe tbody tr th {\n",
              "        vertical-align: top;\n",
              "    }\n",
              "\n",
              "    .dataframe thead th {\n",
              "        text-align: right;\n",
              "    }\n",
              "</style>\n",
              "<table border=\"1\" class=\"dataframe\">\n",
              "  <thead>\n",
              "    <tr style=\"text-align: right;\">\n",
              "      <th></th>\n",
              "      <th>SNo</th>\n",
              "      <th>Name</th>\n",
              "      <th>Symbol</th>\n",
              "      <th>Date</th>\n",
              "      <th>High</th>\n",
              "      <th>Low</th>\n",
              "      <th>Open</th>\n",
              "      <th>Close</th>\n",
              "      <th>Volume</th>\n",
              "      <th>Marketcap</th>\n",
              "    </tr>\n",
              "  </thead>\n",
              "  <tbody>\n",
              "    <tr>\n",
              "      <th>0</th>\n",
              "      <td>1</td>\n",
              "      <td>Aave</td>\n",
              "      <td>AAVE</td>\n",
              "      <td>2020-10-05 23:59:59</td>\n",
              "      <td>55.112358</td>\n",
              "      <td>49.787900</td>\n",
              "      <td>52.675035</td>\n",
              "      <td>53.219243</td>\n",
              "      <td>0.000000e+00</td>\n",
              "      <td>8.912813e+07</td>\n",
              "    </tr>\n",
              "    <tr>\n",
              "      <th>1</th>\n",
              "      <td>2</td>\n",
              "      <td>Aave</td>\n",
              "      <td>AAVE</td>\n",
              "      <td>2020-10-06 23:59:59</td>\n",
              "      <td>53.402270</td>\n",
              "      <td>40.734578</td>\n",
              "      <td>53.291969</td>\n",
              "      <td>42.401599</td>\n",
              "      <td>5.830915e+05</td>\n",
              "      <td>7.101144e+07</td>\n",
              "    </tr>\n",
              "    <tr>\n",
              "      <th>2</th>\n",
              "      <td>3</td>\n",
              "      <td>Aave</td>\n",
              "      <td>AAVE</td>\n",
              "      <td>2020-10-07 23:59:59</td>\n",
              "      <td>42.408314</td>\n",
              "      <td>35.970690</td>\n",
              "      <td>42.399947</td>\n",
              "      <td>40.083976</td>\n",
              "      <td>6.828342e+05</td>\n",
              "      <td>6.713004e+07</td>\n",
              "    </tr>\n",
              "    <tr>\n",
              "      <th>3</th>\n",
              "      <td>4</td>\n",
              "      <td>Aave</td>\n",
              "      <td>AAVE</td>\n",
              "      <td>2020-10-08 23:59:59</td>\n",
              "      <td>44.902511</td>\n",
              "      <td>36.696057</td>\n",
              "      <td>39.885262</td>\n",
              "      <td>43.764463</td>\n",
              "      <td>1.658817e+06</td>\n",
              "      <td>2.202651e+08</td>\n",
              "    </tr>\n",
              "    <tr>\n",
              "      <th>4</th>\n",
              "      <td>5</td>\n",
              "      <td>Aave</td>\n",
              "      <td>AAVE</td>\n",
              "      <td>2020-10-09 23:59:59</td>\n",
              "      <td>47.569533</td>\n",
              "      <td>43.291776</td>\n",
              "      <td>43.764463</td>\n",
              "      <td>46.817744</td>\n",
              "      <td>8.155377e+05</td>\n",
              "      <td>2.356322e+08</td>\n",
              "    </tr>\n",
              "    <tr>\n",
              "      <th>...</th>\n",
              "      <td>...</td>\n",
              "      <td>...</td>\n",
              "      <td>...</td>\n",
              "      <td>...</td>\n",
              "      <td>...</td>\n",
              "      <td>...</td>\n",
              "      <td>...</td>\n",
              "      <td>...</td>\n",
              "      <td>...</td>\n",
              "      <td>...</td>\n",
              "    </tr>\n",
              "    <tr>\n",
              "      <th>2888</th>\n",
              "      <td>2889</td>\n",
              "      <td>XRP</td>\n",
              "      <td>XRP</td>\n",
              "      <td>2021-07-02 23:59:59</td>\n",
              "      <td>0.667287</td>\n",
              "      <td>0.634726</td>\n",
              "      <td>0.659890</td>\n",
              "      <td>0.656763</td>\n",
              "      <td>2.061607e+09</td>\n",
              "      <td>3.030759e+10</td>\n",
              "    </tr>\n",
              "    <tr>\n",
              "      <th>2889</th>\n",
              "      <td>2890</td>\n",
              "      <td>XRP</td>\n",
              "      <td>XRP</td>\n",
              "      <td>2021-07-03 23:59:59</td>\n",
              "      <td>0.683677</td>\n",
              "      <td>0.644653</td>\n",
              "      <td>0.655639</td>\n",
              "      <td>0.672888</td>\n",
              "      <td>1.872820e+09</td>\n",
              "      <td>3.105172e+10</td>\n",
              "    </tr>\n",
              "    <tr>\n",
              "      <th>2890</th>\n",
              "      <td>2891</td>\n",
              "      <td>XRP</td>\n",
              "      <td>XRP</td>\n",
              "      <td>2021-07-04 23:59:59</td>\n",
              "      <td>0.707783</td>\n",
              "      <td>0.665802</td>\n",
              "      <td>0.673218</td>\n",
              "      <td>0.694945</td>\n",
              "      <td>1.885242e+09</td>\n",
              "      <td>3.206960e+10</td>\n",
              "    </tr>\n",
              "    <tr>\n",
              "      <th>2891</th>\n",
              "      <td>2892</td>\n",
              "      <td>XRP</td>\n",
              "      <td>XRP</td>\n",
              "      <td>2021-07-05 23:59:59</td>\n",
              "      <td>0.695653</td>\n",
              "      <td>0.648492</td>\n",
              "      <td>0.695653</td>\n",
              "      <td>0.654300</td>\n",
              "      <td>2.076373e+09</td>\n",
              "      <td>3.019395e+10</td>\n",
              "    </tr>\n",
              "    <tr>\n",
              "      <th>2892</th>\n",
              "      <td>2893</td>\n",
              "      <td>XRP</td>\n",
              "      <td>XRP</td>\n",
              "      <td>2021-07-06 23:59:59</td>\n",
              "      <td>0.679923</td>\n",
              "      <td>0.652676</td>\n",
              "      <td>0.653055</td>\n",
              "      <td>0.665402</td>\n",
              "      <td>1.938959e+09</td>\n",
              "      <td>3.072284e+10</td>\n",
              "    </tr>\n",
              "  </tbody>\n",
              "</table>\n",
              "<p>37082 rows × 10 columns</p>\n",
              "</div>"
            ],
            "text/plain": [
              "       SNo  Name Symbol                 Date       High        Low       Open  \\\n",
              "0        1  Aave   AAVE  2020-10-05 23:59:59  55.112358  49.787900  52.675035   \n",
              "1        2  Aave   AAVE  2020-10-06 23:59:59  53.402270  40.734578  53.291969   \n",
              "2        3  Aave   AAVE  2020-10-07 23:59:59  42.408314  35.970690  42.399947   \n",
              "3        4  Aave   AAVE  2020-10-08 23:59:59  44.902511  36.696057  39.885262   \n",
              "4        5  Aave   AAVE  2020-10-09 23:59:59  47.569533  43.291776  43.764463   \n",
              "...    ...   ...    ...                  ...        ...        ...        ...   \n",
              "2888  2889   XRP    XRP  2021-07-02 23:59:59   0.667287   0.634726   0.659890   \n",
              "2889  2890   XRP    XRP  2021-07-03 23:59:59   0.683677   0.644653   0.655639   \n",
              "2890  2891   XRP    XRP  2021-07-04 23:59:59   0.707783   0.665802   0.673218   \n",
              "2891  2892   XRP    XRP  2021-07-05 23:59:59   0.695653   0.648492   0.695653   \n",
              "2892  2893   XRP    XRP  2021-07-06 23:59:59   0.679923   0.652676   0.653055   \n",
              "\n",
              "          Close        Volume     Marketcap  \n",
              "0     53.219243  0.000000e+00  8.912813e+07  \n",
              "1     42.401599  5.830915e+05  7.101144e+07  \n",
              "2     40.083976  6.828342e+05  6.713004e+07  \n",
              "3     43.764463  1.658817e+06  2.202651e+08  \n",
              "4     46.817744  8.155377e+05  2.356322e+08  \n",
              "...         ...           ...           ...  \n",
              "2888   0.656763  2.061607e+09  3.030759e+10  \n",
              "2889   0.672888  1.872820e+09  3.105172e+10  \n",
              "2890   0.694945  1.885242e+09  3.206960e+10  \n",
              "2891   0.654300  2.076373e+09  3.019395e+10  \n",
              "2892   0.665402  1.938959e+09  3.072284e+10  \n",
              "\n",
              "[37082 rows x 10 columns]"
            ]
          },
          "execution_count": 2,
          "metadata": {},
          "output_type": "execute_result"
        }
      ],
      "source": [
        "# cwd = os.getcwd() # get fold path that contains all csv files\n",
        "# files = glob.glob(os.path.join(cwd,'*.csv')) # retrieve 23 paths for 23 csv files and arrange them into a list\n",
        "# df_each = (pd.read_csv(file) for file in files)\n",
        "# df_integrated = pd.concat(df_each, ignore_index=True)\n",
        "# df_integrated\n",
        "\n",
        "# Integrate 23 csv files into 1 single pandas with a one-liner\n",
        "df_integrated = pd.concat(map(pd.read_csv, glob.glob(os.path.join('','*.csv')))) # use wildcard for file names\n",
        "df_integrated"
      ]
    },
    {
      "cell_type": "code",
      "execution_count": 3,
      "metadata": {
        "colab": {
          "base_uri": "https://localhost:8080/"
        },
        "id": "T_WK7WVhvLeJ",
        "outputId": "fd8e014b-81a8-49ed-fca5-c23a60e53479"
      },
      "outputs": [
        {
          "name": "stdout",
          "output_type": "stream",
          "text": [
            "There are 23 types of cryptocurrencies in the integrated dataframe\n"
          ]
        }
      ],
      "source": [
        "names = len(df_integrated['Name'].unique())\n",
        "print(f'There are {names} types of cryptocurrencies in the integrated dataframe')"
      ]
    },
    {
      "cell_type": "markdown",
      "metadata": {
        "id": "lORewMNC43Y6"
      },
      "source": [
        "# Data Wrangling/Reduction"
      ]
    },
    {
      "cell_type": "code",
      "execution_count": 4,
      "metadata": {
        "colab": {
          "base_uri": "https://localhost:8080/"
        },
        "id": "aBJNZ6wzvRea",
        "outputId": "0fe5ddf8-21b6-493e-ac15-5575206f7a5e"
      },
      "outputs": [
        {
          "data": {
            "text/plain": [
              "SNo            int64\n",
              "Name          object\n",
              "Symbol        object\n",
              "Date          object\n",
              "High         float64\n",
              "Low          float64\n",
              "Open         float64\n",
              "Close        float64\n",
              "Volume       float64\n",
              "Marketcap    float64\n",
              "dtype: object"
            ]
          },
          "execution_count": 4,
          "metadata": {},
          "output_type": "execute_result"
        }
      ],
      "source": [
        "df_integrated.dtypes"
      ]
    },
    {
      "cell_type": "code",
      "execution_count": 5,
      "metadata": {
        "colab": {
          "base_uri": "https://localhost:8080/"
        },
        "id": "LRWWg9drxWO-",
        "outputId": "b59d92bf-2519-48a9-c573-34f120368623"
      },
      "outputs": [
        {
          "data": {
            "text/plain": [
              "136     23\n",
              "254     23\n",
              "27      23\n",
              "103     23\n",
              "71      23\n",
              "        ..\n",
              "2960     2\n",
              "2975     2\n",
              "2969     2\n",
              "2984     2\n",
              "2990     2\n",
              "Name: SNo, Length: 2991, dtype: int64"
            ]
          },
          "execution_count": 5,
          "metadata": {},
          "output_type": "execute_result"
        }
      ],
      "source": [
        "df_integrated['SNo'].value_counts()"
      ]
    },
    {
      "cell_type": "code",
      "execution_count": 6,
      "metadata": {
        "colab": {
          "base_uri": "https://localhost:8080/"
        },
        "id": "Y0kceu6R00lQ",
        "outputId": "6475ea4d-dd27-4c2f-cbae-9fe1ed5458f4"
      },
      "outputs": [
        {
          "data": {
            "text/plain": [
              "Symbol  Name           \n",
              "LTC     Litecoin           2991\n",
              "BTC     Bitcoin            2991\n",
              "XRP     XRP                2893\n",
              "DOGE    Dogecoin           2760\n",
              "XMR     Monero             2602\n",
              "XLM     Stellar            2527\n",
              "USDT    Tether             2318\n",
              "XEM     NEM                2288\n",
              "ETH     Ethereum           2160\n",
              "MIOTA   IOTA               1484\n",
              "EOS     EOS                1466\n",
              "BNB     Binance Coin       1442\n",
              "TRX     TRON               1392\n",
              "LINK    Chainlink          1385\n",
              "ADA     Cardano            1374\n",
              "USDC    USD Coin           1002\n",
              "CRO     Crypto.com Coin     935\n",
              "WBTC    Wrapped Bitcoin     888\n",
              "ATOM    Cosmos              845\n",
              "SOL     Solana              452\n",
              "DOT     Polkadot            320\n",
              "UNI     Uniswap             292\n",
              "AAVE    Aave                275\n",
              "dtype: int64"
            ]
          },
          "execution_count": 6,
          "metadata": {},
          "output_type": "execute_result"
        }
      ],
      "source": [
        "df_integrated[['Symbol','Name']].value_counts()"
      ]
    },
    {
      "cell_type": "markdown",
      "metadata": {
        "id": "EbyxrRuK7bje"
      },
      "source": [
        "After a preliminary exmaination on dataframe:\n",
        "*   Data type for **Date** is incorrect. <br>\n",
        "*   **SNo** is repetitive. \n",
        "*   Cryptocurrencies' **Names** and **Symbols** are exchangeable. <br>\n",
        "\n",
        "Therefore, \n",
        "* Remove SNo,Symbol to reduce memory usage, \n",
        "* Correct data type for Date."
      ]
    },
    {
      "cell_type": "code",
      "execution_count": 7,
      "metadata": {
        "colab": {
          "base_uri": "https://localhost:8080/",
          "height": 458
        },
        "id": "Zn2QUP51xhGM",
        "outputId": "2c3ec112-6f1e-43e2-faf9-92e701c8605a"
      },
      "outputs": [
        {
          "name": "stdout",
          "output_type": "stream",
          "text": [
            "Type of Date column is corrected to datetime64[ns] \n",
            "\n"
          ]
        },
        {
          "data": {
            "text/html": [
              "<div>\n",
              "<style scoped>\n",
              "    .dataframe tbody tr th:only-of-type {\n",
              "        vertical-align: middle;\n",
              "    }\n",
              "\n",
              "    .dataframe tbody tr th {\n",
              "        vertical-align: top;\n",
              "    }\n",
              "\n",
              "    .dataframe thead th {\n",
              "        text-align: right;\n",
              "    }\n",
              "</style>\n",
              "<table border=\"1\" class=\"dataframe\">\n",
              "  <thead>\n",
              "    <tr style=\"text-align: right;\">\n",
              "      <th></th>\n",
              "      <th>Name</th>\n",
              "      <th>Date</th>\n",
              "      <th>High</th>\n",
              "      <th>Low</th>\n",
              "      <th>Open</th>\n",
              "      <th>Close</th>\n",
              "      <th>Volume</th>\n",
              "      <th>Market_Capitalization</th>\n",
              "    </tr>\n",
              "  </thead>\n",
              "  <tbody>\n",
              "    <tr>\n",
              "      <th>0</th>\n",
              "      <td>Aave</td>\n",
              "      <td>2020-10-05</td>\n",
              "      <td>55.112358</td>\n",
              "      <td>49.787900</td>\n",
              "      <td>52.675035</td>\n",
              "      <td>53.219243</td>\n",
              "      <td>0.000000e+00</td>\n",
              "      <td>8.912813e+07</td>\n",
              "    </tr>\n",
              "    <tr>\n",
              "      <th>1</th>\n",
              "      <td>Aave</td>\n",
              "      <td>2020-10-06</td>\n",
              "      <td>53.402270</td>\n",
              "      <td>40.734578</td>\n",
              "      <td>53.291969</td>\n",
              "      <td>42.401599</td>\n",
              "      <td>5.830915e+05</td>\n",
              "      <td>7.101144e+07</td>\n",
              "    </tr>\n",
              "    <tr>\n",
              "      <th>2</th>\n",
              "      <td>Aave</td>\n",
              "      <td>2020-10-07</td>\n",
              "      <td>42.408314</td>\n",
              "      <td>35.970690</td>\n",
              "      <td>42.399947</td>\n",
              "      <td>40.083976</td>\n",
              "      <td>6.828342e+05</td>\n",
              "      <td>6.713004e+07</td>\n",
              "    </tr>\n",
              "    <tr>\n",
              "      <th>3</th>\n",
              "      <td>Aave</td>\n",
              "      <td>2020-10-08</td>\n",
              "      <td>44.902511</td>\n",
              "      <td>36.696057</td>\n",
              "      <td>39.885262</td>\n",
              "      <td>43.764463</td>\n",
              "      <td>1.658817e+06</td>\n",
              "      <td>2.202651e+08</td>\n",
              "    </tr>\n",
              "    <tr>\n",
              "      <th>4</th>\n",
              "      <td>Aave</td>\n",
              "      <td>2020-10-09</td>\n",
              "      <td>47.569533</td>\n",
              "      <td>43.291776</td>\n",
              "      <td>43.764463</td>\n",
              "      <td>46.817744</td>\n",
              "      <td>8.155377e+05</td>\n",
              "      <td>2.356322e+08</td>\n",
              "    </tr>\n",
              "    <tr>\n",
              "      <th>...</th>\n",
              "      <td>...</td>\n",
              "      <td>...</td>\n",
              "      <td>...</td>\n",
              "      <td>...</td>\n",
              "      <td>...</td>\n",
              "      <td>...</td>\n",
              "      <td>...</td>\n",
              "      <td>...</td>\n",
              "    </tr>\n",
              "    <tr>\n",
              "      <th>37077</th>\n",
              "      <td>XRP</td>\n",
              "      <td>2021-07-02</td>\n",
              "      <td>0.667287</td>\n",
              "      <td>0.634726</td>\n",
              "      <td>0.659890</td>\n",
              "      <td>0.656763</td>\n",
              "      <td>2.061607e+09</td>\n",
              "      <td>3.030759e+10</td>\n",
              "    </tr>\n",
              "    <tr>\n",
              "      <th>37078</th>\n",
              "      <td>XRP</td>\n",
              "      <td>2021-07-03</td>\n",
              "      <td>0.683677</td>\n",
              "      <td>0.644653</td>\n",
              "      <td>0.655639</td>\n",
              "      <td>0.672888</td>\n",
              "      <td>1.872820e+09</td>\n",
              "      <td>3.105172e+10</td>\n",
              "    </tr>\n",
              "    <tr>\n",
              "      <th>37079</th>\n",
              "      <td>XRP</td>\n",
              "      <td>2021-07-04</td>\n",
              "      <td>0.707783</td>\n",
              "      <td>0.665802</td>\n",
              "      <td>0.673218</td>\n",
              "      <td>0.694945</td>\n",
              "      <td>1.885242e+09</td>\n",
              "      <td>3.206960e+10</td>\n",
              "    </tr>\n",
              "    <tr>\n",
              "      <th>37080</th>\n",
              "      <td>XRP</td>\n",
              "      <td>2021-07-05</td>\n",
              "      <td>0.695653</td>\n",
              "      <td>0.648492</td>\n",
              "      <td>0.695653</td>\n",
              "      <td>0.654300</td>\n",
              "      <td>2.076373e+09</td>\n",
              "      <td>3.019395e+10</td>\n",
              "    </tr>\n",
              "    <tr>\n",
              "      <th>37081</th>\n",
              "      <td>XRP</td>\n",
              "      <td>2021-07-06</td>\n",
              "      <td>0.679923</td>\n",
              "      <td>0.652676</td>\n",
              "      <td>0.653055</td>\n",
              "      <td>0.665402</td>\n",
              "      <td>1.938959e+09</td>\n",
              "      <td>3.072284e+10</td>\n",
              "    </tr>\n",
              "  </tbody>\n",
              "</table>\n",
              "<p>37082 rows × 8 columns</p>\n",
              "</div>"
            ],
            "text/plain": [
              "       Name       Date       High        Low       Open      Close  \\\n",
              "0      Aave 2020-10-05  55.112358  49.787900  52.675035  53.219243   \n",
              "1      Aave 2020-10-06  53.402270  40.734578  53.291969  42.401599   \n",
              "2      Aave 2020-10-07  42.408314  35.970690  42.399947  40.083976   \n",
              "3      Aave 2020-10-08  44.902511  36.696057  39.885262  43.764463   \n",
              "4      Aave 2020-10-09  47.569533  43.291776  43.764463  46.817744   \n",
              "...     ...        ...        ...        ...        ...        ...   \n",
              "37077   XRP 2021-07-02   0.667287   0.634726   0.659890   0.656763   \n",
              "37078   XRP 2021-07-03   0.683677   0.644653   0.655639   0.672888   \n",
              "37079   XRP 2021-07-04   0.707783   0.665802   0.673218   0.694945   \n",
              "37080   XRP 2021-07-05   0.695653   0.648492   0.695653   0.654300   \n",
              "37081   XRP 2021-07-06   0.679923   0.652676   0.653055   0.665402   \n",
              "\n",
              "             Volume  Market_Capitalization  \n",
              "0      0.000000e+00           8.912813e+07  \n",
              "1      5.830915e+05           7.101144e+07  \n",
              "2      6.828342e+05           6.713004e+07  \n",
              "3      1.658817e+06           2.202651e+08  \n",
              "4      8.155377e+05           2.356322e+08  \n",
              "...             ...                    ...  \n",
              "37077  2.061607e+09           3.030759e+10  \n",
              "37078  1.872820e+09           3.105172e+10  \n",
              "37079  1.885242e+09           3.206960e+10  \n",
              "37080  2.076373e+09           3.019395e+10  \n",
              "37081  1.938959e+09           3.072284e+10  \n",
              "\n",
              "[37082 rows x 8 columns]"
            ]
          },
          "execution_count": 7,
          "metadata": {},
          "output_type": "execute_result"
        }
      ],
      "source": [
        "df_integrated.drop(['SNo','Symbol'],axis=1,inplace = True)\n",
        "df_integrated.reset_index(drop=True,inplace=True)\n",
        "df_integrated['Date'] = pd.to_datetime(df_integrated['Date']).dt.normalize() # convert to datetime64. dt.date returns datetime.date.\n",
        "df_integrated.rename(columns = {'Marketcap': 'Market_Capitalization'},inplace= True)\n",
        "print('Type of Date column is corrected to',df_integrated['Date'].dtypes,'\\n')\n",
        "df_integrated"
      ]
    },
    {
      "cell_type": "markdown",
      "metadata": {
        "id": "TWs8YW2yALGi"
      },
      "source": [
        "Now, we have a desired dataframe for proper visualization and analysis. Export as a csv file."
      ]
    },
    {
      "cell_type": "code",
      "execution_count": 8,
      "metadata": {
        "id": "bvUWNAunBPJ_"
      },
      "outputs": [],
      "source": [
        "df_integrated.to_csv('currency_edited.csv',index = False)"
      ]
    }
  ],
  "metadata": {
    "colab": {
      "collapsed_sections": [],
      "name": "data_wrangling.ipynb",
      "provenance": []
    },
    "kernelspec": {
      "display_name": "Python 3",
      "name": "python3"
    },
    "language_info": {
      "codemirror_mode": {
        "name": "ipython",
        "version": 3
      },
      "file_extension": ".py",
      "mimetype": "text/x-python",
      "name": "python",
      "nbconvert_exporter": "python",
      "pygments_lexer": "ipython3",
      "version": "3.9.5"
    }
  },
  "nbformat": 4,
  "nbformat_minor": 0
}
